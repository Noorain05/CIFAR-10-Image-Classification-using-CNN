{
  "cells": [
    {
      "cell_type": "code",
      "execution_count": 9,
      "metadata": {
        "id": "AbXxoFtn-GZX"
      },
      "outputs": [],
      "source": [
        "import tensorflow as tf\n",
        "from tensorflow import keras\n",
        "from keras import layers\n",
        "from keras.models import Sequential\n",
        "import numpy as np\n",
        "import matplotlib.pyplot as plt"
      ]
    },
    {
      "cell_type": "code",
      "execution_count": 10,
      "metadata": {
        "colab": {
          "base_uri": "https://localhost:8080/"
        },
        "id": "5hgeAAkI-uM8",
        "outputId": "cc85f1dd-8fd4-425f-b42b-94bb81a99a2e"
      },
      "outputs": [],
      "source": [
        "(x_train,y_train),(x_test,y_test)=keras.datasets.cifar10.load_data()"
      ]
    },
    {
      "cell_type": "code",
      "execution_count": 11,
      "metadata": {
        "id": "pGCE0MSy-bWW"
      },
      "outputs": [],
      "source": [
        "x_train=x_train/255.0\n",
        "x_test=x_test/255.0"
      ]
    },
    {
      "cell_type": "code",
      "execution_count": 12,
      "metadata": {
        "colab": {
          "base_uri": "https://localhost:8080/"
        },
        "id": "gP4Njvj8_FDq",
        "outputId": "e90feaf9-bdbc-42b4-ad7d-f0b64c2f6593"
      },
      "outputs": [],
      "source": [
        "model=keras.Sequential()\n",
        "model.add(layers.Conv2D(32,(3,3),activation='relu',input_shape=(32,32,3)))\n",
        "model.add(layers.BatchNormalization())  # Added batch normalization\n",
        "model.add(layers.MaxPooling2D((2,2)))\n",
        "model.add(layers.Dropout(0.3))  # Added dropout to prevent overfitting\n",
        "model.add(layers.Conv2D(64,(3,3),activation='relu'))\n",
        "model.add(layers.BatchNormalization())\n",
        "model.add(layers.MaxPooling2D((2,2)))\n",
        "model.add(layers.Dropout(0.4))  # Increased dropout for deeper layers\n",
        "model.add(layers.Conv2D(64,(3,3),activation='relu'))\n",
        "model.add(layers.Flatten())\n",
        "model.add(layers.Dense(64,activation='relu'))\n",
        "model.add(layers.Flatten())\n",
        "model.add(layers.Dense(128,activation='relu'))\n",
        "model.add(layers.Dropout(0.5))  # Added dropout to dense layer\n",
        "model.add(layers.Dense(10,activation='softmax'))"
      ]
    },
    {
      "cell_type": "code",
      "execution_count": 13,
      "metadata": {
        "id": "HjvAeAP1AW_z"
      },
      "outputs": [],
      "source": [
        "model.compile(optimizer=keras.optimizers.Adam(learning_rate=0.0005),loss='sparse_categorical_crossentropy',metrics=['accuracy'])"
      ]
    },
    {
      "cell_type": "code",
      "execution_count": 14,
      "metadata": {
        "colab": {
          "base_uri": "https://localhost:8080/"
        },
        "id": "oiYgumMEAerP",
        "outputId": "1def0d20-469c-4072-ed2f-dbcb5c0373a8"
      },
      "outputs": [
        {
          "name": "stdout",
          "output_type": "stream",
          "text": [
            "Epoch 1/30\n",
            "\u001b[1m391/391\u001b[0m \u001b[32m━━━━━━━━━━━━━━━━━━━━\u001b[0m\u001b[37m\u001b[0m \u001b[1m15s\u001b[0m 36ms/step - accuracy: 0.2350 - loss: 2.0945 - val_accuracy: 0.2665 - val_loss: 2.0785\n",
            "Epoch 2/30\n",
            "\u001b[1m391/391\u001b[0m \u001b[32m━━━━━━━━━━━━━━━━━━━━\u001b[0m\u001b[37m\u001b[0m \u001b[1m15s\u001b[0m 37ms/step - accuracy: 0.4484 - loss: 1.5236 - val_accuracy: 0.5203 - val_loss: 1.3300\n",
            "Epoch 3/30\n",
            "\u001b[1m391/391\u001b[0m \u001b[32m━━━━━━━━━━━━━━━━━━━━\u001b[0m\u001b[37m\u001b[0m \u001b[1m16s\u001b[0m 40ms/step - accuracy: 0.5205 - loss: 1.3375 - val_accuracy: 0.5703 - val_loss: 1.1906\n",
            "Epoch 4/30\n",
            "\u001b[1m391/391\u001b[0m \u001b[32m━━━━━━━━━━━━━━━━━━━━\u001b[0m\u001b[37m\u001b[0m \u001b[1m16s\u001b[0m 42ms/step - accuracy: 0.5734 - loss: 1.2228 - val_accuracy: 0.5706 - val_loss: 1.2124\n",
            "Epoch 5/30\n",
            "\u001b[1m391/391\u001b[0m \u001b[32m━━━━━━━━━━━━━━━━━━━━\u001b[0m\u001b[37m\u001b[0m \u001b[1m16s\u001b[0m 40ms/step - accuracy: 0.6019 - loss: 1.1371 - val_accuracy: 0.6339 - val_loss: 1.0436\n",
            "Epoch 6/30\n",
            "\u001b[1m391/391\u001b[0m \u001b[32m━━━━━━━━━━━━━━━━━━━━\u001b[0m\u001b[37m\u001b[0m \u001b[1m16s\u001b[0m 42ms/step - accuracy: 0.6296 - loss: 1.0759 - val_accuracy: 0.6509 - val_loss: 0.9917\n",
            "Epoch 7/30\n",
            "\u001b[1m391/391\u001b[0m \u001b[32m━━━━━━━━━━━━━━━━━━━━\u001b[0m\u001b[37m\u001b[0m \u001b[1m16s\u001b[0m 42ms/step - accuracy: 0.6463 - loss: 1.0241 - val_accuracy: 0.6519 - val_loss: 1.0114\n",
            "Epoch 8/30\n",
            "\u001b[1m391/391\u001b[0m \u001b[32m━━━━━━━━━━━━━━━━━━━━\u001b[0m\u001b[37m\u001b[0m \u001b[1m17s\u001b[0m 44ms/step - accuracy: 0.6621 - loss: 0.9768 - val_accuracy: 0.6643 - val_loss: 0.9633\n",
            "Epoch 9/30\n",
            "\u001b[1m391/391\u001b[0m \u001b[32m━━━━━━━━━━━━━━━━━━━━\u001b[0m\u001b[37m\u001b[0m \u001b[1m18s\u001b[0m 45ms/step - accuracy: 0.6672 - loss: 0.9510 - val_accuracy: 0.6584 - val_loss: 1.0018\n",
            "Epoch 10/30\n",
            "\u001b[1m391/391\u001b[0m \u001b[32m━━━━━━━━━━━━━━━━━━━━\u001b[0m\u001b[37m\u001b[0m \u001b[1m18s\u001b[0m 45ms/step - accuracy: 0.6861 - loss: 0.9076 - val_accuracy: 0.6714 - val_loss: 0.9787\n",
            "Epoch 11/30\n",
            "\u001b[1m391/391\u001b[0m \u001b[32m━━━━━━━━━━━━━━━━━━━━\u001b[0m\u001b[37m\u001b[0m \u001b[1m17s\u001b[0m 44ms/step - accuracy: 0.6983 - loss: 0.8767 - val_accuracy: 0.6838 - val_loss: 0.9157\n",
            "Epoch 12/30\n",
            "\u001b[1m391/391\u001b[0m \u001b[32m━━━━━━━━━━━━━━━━━━━━\u001b[0m\u001b[37m\u001b[0m \u001b[1m17s\u001b[0m 44ms/step - accuracy: 0.7070 - loss: 0.8486 - val_accuracy: 0.7086 - val_loss: 0.8504\n",
            "Epoch 13/30\n",
            "\u001b[1m391/391\u001b[0m \u001b[32m━━━━━━━━━━━━━━━━━━━━\u001b[0m\u001b[37m\u001b[0m \u001b[1m17s\u001b[0m 44ms/step - accuracy: 0.7222 - loss: 0.8113 - val_accuracy: 0.7208 - val_loss: 0.8331\n",
            "Epoch 14/30\n",
            "\u001b[1m391/391\u001b[0m \u001b[32m━━━━━━━━━━━━━━━━━━━━\u001b[0m\u001b[37m\u001b[0m \u001b[1m17s\u001b[0m 45ms/step - accuracy: 0.7254 - loss: 0.7952 - val_accuracy: 0.7211 - val_loss: 0.8020\n",
            "Epoch 15/30\n",
            "\u001b[1m391/391\u001b[0m \u001b[32m━━━━━━━━━━━━━━━━━━━━\u001b[0m\u001b[37m\u001b[0m \u001b[1m17s\u001b[0m 44ms/step - accuracy: 0.7308 - loss: 0.7846 - val_accuracy: 0.7309 - val_loss: 0.7866\n",
            "Epoch 16/30\n",
            "\u001b[1m391/391\u001b[0m \u001b[32m━━━━━━━━━━━━━━━━━━━━\u001b[0m\u001b[37m\u001b[0m \u001b[1m18s\u001b[0m 45ms/step - accuracy: 0.7344 - loss: 0.7661 - val_accuracy: 0.7196 - val_loss: 0.8208\n",
            "Epoch 17/30\n",
            "\u001b[1m391/391\u001b[0m \u001b[32m━━━━━━━━━━━━━━━━━━━━\u001b[0m\u001b[37m\u001b[0m \u001b[1m17s\u001b[0m 44ms/step - accuracy: 0.7441 - loss: 0.7496 - val_accuracy: 0.7358 - val_loss: 0.7763\n",
            "Epoch 18/30\n",
            "\u001b[1m391/391\u001b[0m \u001b[32m━━━━━━━━━━━━━━━━━━━━\u001b[0m\u001b[37m\u001b[0m \u001b[1m17s\u001b[0m 44ms/step - accuracy: 0.7508 - loss: 0.7283 - val_accuracy: 0.6776 - val_loss: 0.9834\n",
            "Epoch 19/30\n",
            "\u001b[1m391/391\u001b[0m \u001b[32m━━━━━━━━━━━━━━━━━━━━\u001b[0m\u001b[37m\u001b[0m \u001b[1m17s\u001b[0m 44ms/step - accuracy: 0.7546 - loss: 0.7123 - val_accuracy: 0.7440 - val_loss: 0.7486\n",
            "Epoch 20/30\n",
            "\u001b[1m391/391\u001b[0m \u001b[32m━━━━━━━━━━━━━━━━━━━━\u001b[0m\u001b[37m\u001b[0m \u001b[1m17s\u001b[0m 44ms/step - accuracy: 0.7558 - loss: 0.7108 - val_accuracy: 0.7283 - val_loss: 0.8111\n",
            "Epoch 21/30\n",
            "\u001b[1m391/391\u001b[0m \u001b[32m━━━━━━━━━━━━━━━━━━━━\u001b[0m\u001b[37m\u001b[0m \u001b[1m17s\u001b[0m 44ms/step - accuracy: 0.7633 - loss: 0.6975 - val_accuracy: 0.7236 - val_loss: 0.8294\n",
            "Epoch 22/30\n",
            "\u001b[1m391/391\u001b[0m \u001b[32m━━━━━━━━━━━━━━━━━━━━\u001b[0m\u001b[37m\u001b[0m \u001b[1m18s\u001b[0m 46ms/step - accuracy: 0.7669 - loss: 0.6801 - val_accuracy: 0.7493 - val_loss: 0.7554\n",
            "Epoch 23/30\n",
            "\u001b[1m391/391\u001b[0m \u001b[32m━━━━━━━━━━━━━━━━━━━━\u001b[0m\u001b[37m\u001b[0m \u001b[1m17s\u001b[0m 44ms/step - accuracy: 0.7689 - loss: 0.6745 - val_accuracy: 0.7402 - val_loss: 0.8027\n",
            "Epoch 24/30\n",
            "\u001b[1m391/391\u001b[0m \u001b[32m━━━━━━━━━━━━━━━━━━━━\u001b[0m\u001b[37m\u001b[0m \u001b[1m17s\u001b[0m 43ms/step - accuracy: 0.7746 - loss: 0.6527 - val_accuracy: 0.7325 - val_loss: 0.8313\n",
            "Epoch 25/30\n",
            "\u001b[1m391/391\u001b[0m \u001b[32m━━━━━━━━━━━━━━━━━━━━\u001b[0m\u001b[37m\u001b[0m \u001b[1m17s\u001b[0m 44ms/step - accuracy: 0.7743 - loss: 0.6472 - val_accuracy: 0.7504 - val_loss: 0.7448\n",
            "Epoch 26/30\n",
            "\u001b[1m391/391\u001b[0m \u001b[32m━━━━━━━━━━━━━━━━━━━━\u001b[0m\u001b[37m\u001b[0m \u001b[1m16s\u001b[0m 42ms/step - accuracy: 0.7783 - loss: 0.6412 - val_accuracy: 0.7501 - val_loss: 0.7522\n",
            "Epoch 27/30\n",
            "\u001b[1m391/391\u001b[0m \u001b[32m━━━━━━━━━━━━━━━━━━━━\u001b[0m\u001b[37m\u001b[0m \u001b[1m20s\u001b[0m 50ms/step - accuracy: 0.7850 - loss: 0.6260 - val_accuracy: 0.7565 - val_loss: 0.7410\n",
            "Epoch 28/30\n",
            "\u001b[1m391/391\u001b[0m \u001b[32m━━━━━━━━━━━━━━━━━━━━\u001b[0m\u001b[37m\u001b[0m \u001b[1m19s\u001b[0m 49ms/step - accuracy: 0.7856 - loss: 0.6166 - val_accuracy: 0.7449 - val_loss: 0.7641\n",
            "Epoch 29/30\n",
            "\u001b[1m391/391\u001b[0m \u001b[32m━━━━━━━━━━━━━━━━━━━━\u001b[0m\u001b[37m\u001b[0m \u001b[1m19s\u001b[0m 48ms/step - accuracy: 0.7918 - loss: 0.6084 - val_accuracy: 0.7305 - val_loss: 0.8425\n",
            "Epoch 30/30\n",
            "\u001b[1m391/391\u001b[0m \u001b[32m━━━━━━━━━━━━━━━━━━━━\u001b[0m\u001b[37m\u001b[0m \u001b[1m19s\u001b[0m 47ms/step - accuracy: 0.7909 - loss: 0.6084 - val_accuracy: 0.7489 - val_loss: 0.7887\n"
          ]
        }
      ],
      "source": [
        "history = model.fit(x_train, y_train, epochs=30, batch_size=128,  validation_data=(x_test, y_test)) # Increased epochs and batch size"
      ]
    },
    {
      "cell_type": "code",
      "execution_count": 15,
      "metadata": {
        "colab": {
          "base_uri": "https://localhost:8080/"
        },
        "id": "7vzgvVDfAm2I",
        "outputId": "fb7dadfe-05b5-44c4-c0ff-b1f0494fd27e"
      },
      "outputs": [
        {
          "name": "stdout",
          "output_type": "stream",
          "text": [
            "\u001b[1m313/313\u001b[0m \u001b[32m━━━━━━━━━━━━━━━━━━━━\u001b[0m\u001b[37m\u001b[0m \u001b[1m1s\u001b[0m 4ms/step - accuracy: 0.7516 - loss: 0.7851\n",
            "Test accuracy: 0.7488999962806702\n"
          ]
        }
      ],
      "source": [
        "test_loss, test_acc = model.evaluate(x_test, y_test)\n",
        "print(f\"Test accuracy: {test_acc}\")"
      ]
    }
  ],
  "metadata": {
    "colab": {
      "provenance": []
    },
    "kernelspec": {
      "display_name": "Python 3",
      "name": "python3"
    },
    "language_info": {
      "codemirror_mode": {
        "name": "ipython",
        "version": 3
      },
      "file_extension": ".py",
      "mimetype": "text/x-python",
      "name": "python",
      "nbconvert_exporter": "python",
      "pygments_lexer": "ipython3",
      "version": "3.11.4"
    }
  },
  "nbformat": 4,
  "nbformat_minor": 0
}
